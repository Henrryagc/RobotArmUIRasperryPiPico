{
 "cells": [
  {
   "cell_type": "code",
   "execution_count": 1,
   "metadata": {},
   "outputs": [],
   "source": [
    "import pathlib\n",
    "\n",
    "import matplotlib.pyplot as plt\n",
    "import pandas as pd\n",
    "import seaborn as sns\n",
    "\n",
    "import tensorflow as tf\n",
    "\n",
    "from tensorflow import keras\n",
    "from tensorflow.keras import layers"
   ]
  },
  {
   "cell_type": "code",
   "execution_count": null,
   "metadata": {},
   "outputs": [],
   "source": [
    "column_names = ['x', 'y', 'gripper1', 'wrist1', 'arm_top1', 'arm_bottom1', 'shoulders1', 'base1', 'gripper2', 'wrist2', 'arm_top2', 'arm_bottom2', 'shoulders2', 'base2']                   \n",
    "raw_dataset = dataset_path = pd.read_csv(\"../data_test.csv\", names=column_names,\n",
    "                      na_values = \"?\", comment='\\t',\n",
    "                      sep=\",\", skipinitialspace=True)\n",
    "\n",
    "dataset = raw_dataset.copy()\n",
    "dataset.tail()"
   ]
  },
  {
   "cell_type": "code",
   "execution_count": null,
   "metadata": {},
   "outputs": [],
   "source": [
    "train_dataset = dataset.sample(frac=0.8,random_state=0)\n",
    "test_dataset = dataset.drop(train_dataset.index)"
   ]
  },
  {
   "cell_type": "code",
   "execution_count": null,
   "metadata": {},
   "outputs": [],
   "source": [
    "train_stats = train_dataset.describe()\n",
    "train_stats.pop(\"gripper1\")\n",
    "train_stats.pop(\"wrist1\"\t)\n",
    "train_stats.pop(\"arm_top1\"\t)\n",
    "train_stats.pop(\"arm_bottom1\"\t)\n",
    "train_stats.pop(\"shoulders1\"\t)\n",
    "train_stats.pop(\"base1\"\t)\n",
    "train_stats.pop(\"gripper2\"\t)\n",
    "train_stats.pop(\"wrist2\"\t)\n",
    "train_stats.pop(\"arm_top2\"\t)\n",
    "train_stats.pop(\"arm_bottom2\"\t)\n",
    "train_stats.pop(\"shoulders2\"\t)\n",
    "train_stats.pop(\"base2\")\n",
    "\n",
    "train_stats = train_stats.transpose()\n",
    "train_stats"
   ]
  },
  {
   "cell_type": "code",
   "execution_count": null,
   "metadata": {},
   "outputs": [],
   "source": [
    "train_labels = train_dataset[['gripper1', 'wrist1', 'arm_top1', 'arm_bottom1', 'shoulders1', 'base1', 'gripper2', 'wrist2', 'arm_top2', 'arm_bottom2', 'shoulders2', 'base2']]\n",
    "\n",
    "test_labels = test_dataset[['gripper1', 'wrist1', 'arm_top1', 'arm_bottom1', 'shoulders1', 'base1', 'gripper2', 'wrist2', 'arm_top2', 'arm_bottom2', 'shoulders2', 'base2']]"
   ]
  },
  {
   "cell_type": "code",
   "execution_count": null,
   "metadata": {},
   "outputs": [],
   "source": [
    "normed_train_data = train_dataset / 1000.0\n",
    "normed_test_data = test_dataset / 1000.0"
   ]
  },
  {
   "cell_type": "code",
   "execution_count": null,
   "metadata": {},
   "outputs": [],
   "source": [
    "def build_model():\n",
    "  model = keras.Sequential([\n",
    "    layers.Dense(64, activation='relu', input_shape=[len(train_dataset.keys())]),\n",
    "    layers.Dense(64, activation='relu'),\n",
    "    layers.Dense(12)\n",
    "  ])\n",
    "\n",
    "  optimizer = tf.keras.optimizers.RMSprop(0.001)\n",
    "\n",
    "  model.compile(loss='mse',\n",
    "                optimizer=optimizer,\n",
    "                metrics=['mae', 'mse'])\n",
    "  return model"
   ]
  },
  {
   "cell_type": "code",
   "execution_count": null,
   "metadata": {},
   "outputs": [],
   "source": [
    "model = build_model()"
   ]
  },
  {
   "cell_type": "code",
   "execution_count": null,
   "metadata": {},
   "outputs": [],
   "source": [
    "model.summary()"
   ]
  },
  {
   "cell_type": "code",
   "execution_count": null,
   "metadata": {},
   "outputs": [],
   "source": [
    "example_batch = test_dataset[:1]\n",
    "example_result = model.predict(example_batch)\n",
    "example_result"
   ]
  },
  {
   "cell_type": "code",
   "execution_count": null,
   "metadata": {},
   "outputs": [],
   "source": []
  },
  {
   "cell_type": "code",
   "execution_count": null,
   "metadata": {},
   "outputs": [],
   "source": []
  }
 ],
 "metadata": {
  "kernelspec": {
   "display_name": "Python 3.10.5 ('brazoenv': venv)",
   "language": "python",
   "name": "python3"
  },
  "language_info": {
   "codemirror_mode": {
    "name": "ipython",
    "version": 3
   },
   "file_extension": ".py",
   "mimetype": "text/x-python",
   "name": "python",
   "nbconvert_exporter": "python",
   "pygments_lexer": "ipython3",
   "version": "3.10.5"
  },
  "orig_nbformat": 4,
  "vscode": {
   "interpreter": {
    "hash": "f8452206ece056ab7ca2da9e88956fba7020125166ae5c2347e726d35f703f29"
   }
  }
 },
 "nbformat": 4,
 "nbformat_minor": 2
}
